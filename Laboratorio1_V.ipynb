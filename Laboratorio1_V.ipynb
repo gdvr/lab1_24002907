{
 "cells": [
  {
   "cell_type": "markdown",
   "id": "c5b2f616-b5de-450d-b873-195a0af3d49e",
   "metadata": {},
   "source": [
    "| Nombre        | Carnet         \n",
    "| ------------- |:-------------:|\n",
    "| Gerardo Daniel Vega Rosales     | 24002907 "
   ]
  },
  {
   "cell_type": "markdown",
   "id": "98accbff-dfc9-4bc0-87b5-c52ab77c332b",
   "metadata": {
    "jp-MarkdownHeadingCollapsed": true,
    "tags": []
   },
   "source": [
    "# [Git](https://git-scm.com/) ![alt text](https://git-scm.com/images/logo@2x.png \"Git\")"
   ]
  },
  {
   "cell_type": "markdown",
   "id": "2ff9258c-e2ed-4650-bfa8-36e39354173c",
   "metadata": {},
   "source": [
    "Es un software de control de versiones diseñado por  [Linus Torvalds](https://es.wikipedia.org/wiki/Linus_Torvalds) diseñado como software libre distribuible bajo la version 2 de la [Licencia Publica General de GNU](https://es.wikipedia.org/wiki/GNU_General_Public_License).\n",
    "\n",
    "El principal proposito de git es poder coordinar el trabajo que varias personas realizan sobre archivos compartidos en un repositorio de codigo."
   ]
  },
  {
   "cell_type": "markdown",
   "id": "61ba5618-3b1e-4770-a550-d29e168c71df",
   "metadata": {
    "jp-MarkdownHeadingCollapsed": true,
    "tags": []
   },
   "source": [
    "## Caracteristicas"
   ]
  },
  {
   "cell_type": "markdown",
   "id": "06efd91e-c917-4a4a-97c1-cefc6a34e2e3",
   "metadata": {
    "tags": []
   },
   "source": [
    "Las características más relevantes se encuentran:\n",
    "    \n",
    "* Incluye herramientas para navegar y visualizar un historial de desarrollo no lineal.\n",
    "* Cada desarrollador tiene una coipia local del historial del desarrollo entero.\n",
    "* Los almacenaes de informacion pueden publicarse por HTTP, FTP, rsync o mediante de un protocolo nativo.\n",
    "* Puede usar repositorios de similares (Subversion y svk) utilizando git-svn.\n",
    "* Debido a la rapidez con la cual gestiona las diferencias entre archivos es eficiente para proyectos de gran volumen de archivos.\n",
    "* Compatibilidad con Github y Microsoft Visual Studio Code.\n"
   ]
  },
  {
   "cell_type": "markdown",
   "id": "1ae6f39f-dd0c-420c-bff7-bd497c655331",
   "metadata": {
    "tags": []
   },
   "source": [
    "## órdenes basicas"
   ]
  },
  {
   "cell_type": "markdown",
   "id": "3cd55e1c-d50b-40f1-a78d-6e25882e6267",
   "metadata": {
    "tags": []
   },
   "source": [
    "* **git init**: Crea una carpeta nueva llamada .git que contiene todos los archivos necesarios del repositorio.\n",
    "* **git merge [nombre_rama]**: Realiza los cambios en la rama en que se tiene referencia, los cambios realizados en la rama **[nombre_rama**].\n",
    "* **git pull**: Unifica los comandos **fetch** y **pull** en un único comando.\n",
    "* **git init**: Crea una carpeta nueva llamada .git que contiene todos los archivos necesarios del repositorio.\n",
    "* **git commit -m [mensaje]**: Confirma los cambios realizados. el **[mensaje]** contiene una breve descripción del cambio asociado.\n",
    "* **git push origin [nombre_rama]**: Sube la rama **[nombre_rama]** al servidor remoto.\n",
    "* **git status**: Muestra todos los cambios pendientes de commitear en la rama actual.\n",
    "* **git add [nombre_archivo]**: Comienza a realizar el tracking del archivo **[nombre_archivo]**.\n",
    "* **git checkout -b [nombre_rama_nueva]**: Crea una rama a partir de la rama situada con el nombre **[nombre_rama_nueva]** y se mueve a esta nueva rama.\n",
    "* **git checkout -t origin/[nombre_rama]**: Si existe una rama remota con el nombre **[nombre_rama]**, se crea una rama local con el nombre **[nombre_rama]** para hacer seguimiento de la rama remota con el mismo nombre.\n",
    "* **git branch**: Lista todas las ramas locales.\n",
    "* **git branch -d [nombre_rama]**: Elimina la rama local con el nombre **[nombre_rama]**.\n",
    "* **git push origin [nombre_archivo]**: Commitea los cambios desde la rama origin local a la rama **[nombre_archivo]**.\n",
    "* **git remote prune origin**: Actualiza el repositorio remoto por si fue eliminada alguna rama remota por un desarrollador.\n",
    "* **git reset --hard HEAD**: Elimita los cambios que aun no se hayan commiteado.\n",
    "* **git revert [hash_commit]**: Revierte el cambio asociado al commit con identificador **[hash_commit]**.\n"
   ]
  },
  {
   "cell_type": "markdown",
   "id": "6f831217-ae39-44a7-9682-689976afa8ac",
   "metadata": {},
   "source": [
    "## Flujo de trabajo"
   ]
  },
  {
   "cell_type": "markdown",
   "id": "5e31ed1a-48d1-4b83-8bb4-f11739207381",
   "metadata": {
    "tags": []
   },
   "source": [
    "Es una recomendación acerca del uso de Git para realizar trabajo de forma uniforme y productiva, esto ayuda a coordinar el trabajo de un grupo de personas en proyectos grandes.\n",
    "\n",
    "Los flujos de trabajo más populares son:\n",
    "* **Git-flow**: Creado en 2010, esta basado en dos grandes ramas con infinito tiempo de vida (rama master y develop) y varias ramas de apoyo, las orientadas al desarrollo de nuevas funcionalidades (ramas feature-x), otras al arreglo de errores (hotfix-x) y otras para preparar una nuva versión de producción (ramas release-x). \n",
    "* **Github-flow**: Creado en 2011, esta se sugiere para las funcionalidades nativas de Github. La principal diferencia es que intenta simplificar la gestión de ramas, trabajando directamente en la  rama master e integrando los distintos features directamente a esta rama.\n",
    "* **Gitlab flow**: Creado en 2014, es una extension de **Github-flow** acompañado de mejores practicas para estandarizar el proceso. Se introducen dos tipos de ramas, las ramas que permiten una implementacion parcial a la aplicacion y si existiera algun error se puede resolver antes de pasar a la rama master (ramas de entorno) y las rama que permite llevar un mayor control cuando se requieren lanzamientos frecuentes (rama de versión). \n",
    "* **One Flow**: Este flujo de trabajo no cuenta con una rama de dasarrollo y se basa en que cada nueva versión esta basada en la versión previa de producción."
   ]
  },
  {
   "cell_type": "markdown",
   "id": "cd709161-8e4a-4c59-b53a-0b003346d5a3",
   "metadata": {
    "jp-MarkdownHeadingCollapsed": true,
    "tags": []
   },
   "source": [
    "# [Github](https://github.com/) <img src=\"https://static.vecteezy.com/system/resources/previews/016/833/880/non_2x/github-logo-git-hub-icon-with-text-on-white-background-free-vector.jpg\" width=\"200\" height=\"200\" />"
   ]
  },
  {
   "cell_type": "markdown",
   "id": "1bedcbde-73ab-4f84-9479-22ab51d96bb3",
   "metadata": {},
   "source": [
    "Github es un sistema para alojar proyectos utilizando control de versiones Git. \n",
    "En 2018 esta fue adquirido por [Microsoft](https://es.wikipedia.org/wiki/Microsoft), dando como resultado la salida de algunos proyectos de este sitio.\n",
    "\n",
    "Actualmente sigue siendo la plataforma más importante de colaboración para proyectos de código abierto."
   ]
  },
  {
   "cell_type": "markdown",
   "id": "715add9c-ec3b-46b1-9e78-9ef7c49d054f",
   "metadata": {
    "jp-MarkdownHeadingCollapsed": true,
    "tags": []
   },
   "source": [
    "## Características"
   ]
  },
  {
   "cell_type": "markdown",
   "id": "f91b1459-e5a9-4bf1-af83-4cc23a534dc6",
   "metadata": {
    "tags": []
   },
   "source": [
    "**Repositorios**\n",
    "\n",
    "Son lugares virtuales alojados en la nube donde se almacena el código fuente de un programa o aplicacion, el codigo fuente puede ser de cualquier tipo de archivo. Estos repositorios pueden accederse de forma pública, privada o a traves de una organización.\n",
    "\n",
    "**Issues**\n",
    "\n",
    "Estos estan abiertos por usuarios que tienen un problema con el código del repositorio y requieren de ayuda para solucionerla por parte de otros usuarios que puedan plantear una solución que mejore el programa o aplicación.\n",
    "\n",
    "**Pull Requests**\n",
    "\n",
    "Estos son artefactos que permiten la revisión y validación de cambios sobre archivos asociados al repositorio antes de ser aceptado como una solución aceptable y adicionar el cambio al repositorio, permiten dar retroalimentación utilizando comentarios antes de decidir si se acepta o se deniega la solicitud.\n",
    "\n",
    "**Debates**\n",
    "\n",
    "Estos son similares a los **issues**, aca se adapta un sistema de votos para los comentarios y un administrador del repositrio puede marcar una respuesta como correcta, estos pueden convertirse en **issues**.\n",
    "\n",
    "\n",
    "**Actions**\n",
    "\n",
    "Esta funcionalidad esta orientado a crear flujos de trabajo para automatizar acciones buscando [CI/CD](https://www.synopsys.com/glossary/what-is-cicd.html#:~:text=Definition,are%20made%20frequently%20and%20reliably).\n",
    "\n",
    "**Wiki**\n",
    "\n",
    "Esta sección permite tener documentación de apoyo por parte de los creadores que crean artículos que explicán más cosas acerca del proyecto.\n",
    "\n",
    "**Usuarios**\n",
    "\n",
    "Github cuenta con una página para cada usuario que se registra en el sitio, aca se puede ver la información personal del usuario, sus repositorios, la cantidad de respuestas que han sido marcadas como correctas en los debates, etc.\n",
    "\n",
    "**Organizaciones**\n",
    "\n",
    "Estas son creadas por los usuarios que tiene una cuenta de Github y esta es una cuenta que representa a una empresa o equipo de trabajo, en esta se pueden agregar mas usuarios y agregar roles en base a las acciones que tiene permitido realizar dicho usuario agregado."
   ]
  },
  {
   "cell_type": "markdown",
   "id": "89851346-4d2d-4985-935f-5f9e2d4669fd",
   "metadata": {
    "tags": []
   },
   "source": [
    "## Servicios"
   ]
  },
  {
   "cell_type": "markdown",
   "id": "b959fd28-a3de-4377-9d14-c4dc6883ab14",
   "metadata": {},
   "source": [
    "**Github Pages**\n",
    "\n",
    "Este servicio permite alojar un sitio web a los servidores de Github sin necesidad de un almacenamiento externo.\n",
    "\n",
    "**Patrocinio**\n",
    "\n",
    "Este es un servicio que ofrece Github a los desarrolldores que permite obtener dinero a traves de patrocinios de usuarios o empresas.\n",
    "\n",
    "**Github Education**\n",
    "\n",
    "Este servicio para escuelas, profesores y estudiantes es un kit de herramientas dependiendo el rol del usuario final que permite el acceso tanto a catálogos de cursos, herramientas para programar.\n",
    "\n",
    "**GitHub Gist**\n",
    "\n",
    "Este servicio permite guardar uno o mas archivos de texto buscando simplificar la visualización de código por parte de personas que caracen de conocimiento sobre control de versiones.\n",
    "\n",
    "**GitHub Codespaces**\n",
    "\n",
    "Este servicio ofrece un entorno de desarrollo integrado incluido en GitHub que es para uso de cualqui repositorio, con esto permite modificar, depurar, ejecutar y realizar modificaciones al control de versiones directamente desde Github."
   ]
  },
  {
   "cell_type": "markdown",
   "id": "82438468-08e6-4aa5-b2ab-c959901c1cea",
   "metadata": {
    "tags": []
   },
   "source": [
    "# [MagicCells](https://medium.com/@marc.bolle/learn-these-15-magic-commands-in-jupyter-notebook-to-save-time-a864ca9b15c7#:~:text=Magic%20commands%2C%20also%20known%20as,while%20working%20with%20Jupyter%20notebooks)"
   ]
  },
  {
   "cell_type": "markdown",
   "id": "260a9266-13fd-4ce0-9342-e815c8437e10",
   "metadata": {},
   "source": [
    "Estas funciones disponibles en Jupyter Notebook permite ejecutar comandos especiales, tambien conocidas como funciones mágicas."
   ]
  },
  {
   "cell_type": "code",
   "execution_count": 7,
   "id": "f63fd57b-0f5b-461f-b38d-30870256e50c",
   "metadata": {
    "tags": []
   },
   "outputs": [
    {
     "name": "stdout",
     "output_type": "stream",
     "text": [
      "Start Script\n",
      "[test b7a564b] Your commit message here\n",
      " 2 files changed, 5 insertions(+), 15 deletions(-)\n"
     ]
    },
    {
     "name": "stderr",
     "output_type": "stream",
     "text": [
      "fatal: 'master?' does not appear to be a git repository\n",
      "fatal: Could not read from remote repository.\n",
      "\n",
      "Please make sure you have the correct access rights\n",
      "and the repository exists.\n"
     ]
    },
    {
     "name": "stdout",
     "output_type": "stream",
     "text": [
      "Finish Script\n"
     ]
    }
   ],
   "source": [
    "%%bash \n",
    "sh test.sh"
   ]
  },
  {
   "cell_type": "code",
   "execution_count": null,
   "id": "5267bd26-f9b3-4a0b-9140-2cc5d7c20fe3",
   "metadata": {
    "tags": []
   },
   "outputs": [],
   "source": [
    "%%bash\n",
    "git push"
   ]
  },
  {
   "cell_type": "code",
   "execution_count": null,
   "id": "3d8f4422-6802-4549-9f35-dd69b9ed27d2",
   "metadata": {
    "tags": []
   },
   "outputs": [],
   "source": [
    "%%bash\n",
    "echo \"Start Script\"\n",
    "if [ -d \".git\" ]\n",
    "then\n",
    "echo \"We can perform the git command\"\n",
    "git add .\n",
    "git commit -m \"update notebook\"\n",
    "echo \"Pushing data to remote server!!!\"\n",
    "git push master\n",
    "else\n",
    "echo \"Please add the origin after perform git commands\"\n",
    "fi\n",
    "echo \"Finish Script\""
   ]
  },
  {
   "cell_type": "code",
   "execution_count": null,
   "id": "cd4b2f8f-0aca-4b32-8156-a752955cf9c9",
   "metadata": {},
   "outputs": [],
   "source": [
    "%%bash\n",
    "git push master\n",
    "echo \"#############################################\"\n",
    "echo \"Pushed successfully; $filesCommit files\"\n",
    "echo \"#############################################\""
   ]
  },
  {
   "cell_type": "code",
   "execution_count": null,
   "id": "a02db0f2-1827-4d11-ac21-2003eca4ded4",
   "metadata": {},
   "outputs": [],
   "source": []
  }
 ],
 "metadata": {
  "kernelspec": {
   "display_name": "Python 3 (ipykernel)",
   "language": "python",
   "name": "python3"
  },
  "language_info": {
   "codemirror_mode": {
    "name": "ipython",
    "version": 3
   },
   "file_extension": ".py",
   "mimetype": "text/x-python",
   "name": "python",
   "nbconvert_exporter": "python",
   "pygments_lexer": "ipython3",
   "version": "3.11.5"
  }
 },
 "nbformat": 4,
 "nbformat_minor": 5
}
